{
 "cells": [
  {
   "cell_type": "markdown",
   "metadata": {},
   "source": [
    "# Documentation \n",
    "\n",
    "  [Alpha Vantage](https://www.alphavantage.co/documentation/)\n",
    "  \n",
    "  [datareader](https://pandas-datareader.readthedocs.io/en/latest/remote_data.html#alpha-vantage)"
   ]
  },
  {
   "cell_type": "code",
   "execution_count": null,
   "metadata": {},
   "outputs": [],
   "source": [
    "import pandas as pd\n",
    "import pandas_datareader.data as web\n",
    "import os\n",
    "from datetime import datetime\n",
    "\n",
    "# Useful for displaying cannonical representation of an object in Jupyter.\n",
    "from IPython.display import display\n",
    "\n",
    "from dotenv import load_dotenv\n",
    "load_dotenv(verbose=True, override=False)\n",
    "if \"ALPHAVANTAGE_APIKEY\" in os.environ:\n",
    "    av_apikey = os.environ.get(\"ALPHAVANTAGE_APIKEY\")\n",
    "else:\n",
    "    raise ValueError(f\"No apikey available\")"
   ]
  },
  {
   "cell_type": "markdown",
   "metadata": {},
   "source": [
    "Get a dataframe "
   ]
  },
  {
   "cell_type": "code",
   "execution_count": null,
   "metadata": {},
   "outputs": [],
   "source": [
    "# Note: Printing the apikey could endup in the notebook output, don't do this and then sve the output back to a public repository.\n",
    "# print(f\"Do NOT print this but you can use this to debug wether or not you've set it correctly {av_apikey}\")    \n",
    "df = web.DataReader(\"INTC\",\"av-daily\", start=datetime(2023, 1, 1), api_key=av_apikey)\n",
    "display(df)"
   ]
  }
 ],
 "metadata": {
  "kernelspec": {
   "display_name": "Python 3",
   "language": "python",
   "name": "python3"
  },
  "language_info": {
   "codemirror_mode": {
    "name": "ipython",
    "version": 3
   },
   "file_extension": ".py",
   "mimetype": "text/x-python",
   "name": "python",
   "nbconvert_exporter": "python",
   "pygments_lexer": "ipython3",
   "version": "3.10.12"
  }
 },
 "nbformat": 4,
 "nbformat_minor": 2
}
